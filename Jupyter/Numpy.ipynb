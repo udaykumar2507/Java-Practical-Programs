{
 "cells": [
  {
   "cell_type": "code",
   "execution_count": 33,
   "id": "1c8bc2f8-50e9-49ca-a66a-674ecee95d1b",
   "metadata": {},
   "outputs": [],
   "source": [
    "import numpy as np"
   ]
  },
  {
   "cell_type": "code",
   "execution_count": 34,
   "id": "88d675de-8912-456d-844e-99bf837efb59",
   "metadata": {},
   "outputs": [],
   "source": [
    "my1Darray=np.array([1,2,3,4,5])"
   ]
  },
  {
   "cell_type": "code",
   "execution_count": 35,
   "id": "2e0d8e88-e002-4a20-8270-8fcb2ee81e49",
   "metadata": {},
   "outputs": [
    {
     "name": "stdout",
     "output_type": "stream",
     "text": [
      "[1 2 3 4 5]\n"
     ]
    }
   ],
   "source": [
    "print(my1Darray)"
   ]
  },
  {
   "cell_type": "code",
   "execution_count": 36,
   "id": "3922f7fe-e04d-4a16-95bd-14d0e31e3519",
   "metadata": {},
   "outputs": [],
   "source": [
    "my2dArray=np.array([[1,2,3,4],[5,6,7,8]])"
   ]
  },
  {
   "cell_type": "code",
   "execution_count": 37,
   "id": "3fe10886-ffee-433d-bab6-70318096afc7",
   "metadata": {},
   "outputs": [
    {
     "name": "stdout",
     "output_type": "stream",
     "text": [
      "[[1 2 3 4]\n",
      " [5 6 7 8]]\n"
     ]
    }
   ],
   "source": [
    "print(my2dArray)"
   ]
  },
  {
   "cell_type": "code",
   "execution_count": 38,
   "id": "35e040be-33eb-491e-8f4b-1968fea6dda7",
   "metadata": {},
   "outputs": [],
   "source": [
    "my3dArray=np.array([[[1,2,3,4],[5,6,7,8]],[[9,10,11,12],[13,14,15,16]]])"
   ]
  },
  {
   "cell_type": "code",
   "execution_count": 39,
   "id": "50a8b6db",
   "metadata": {},
   "outputs": [
    {
     "name": "stdout",
     "output_type": "stream",
     "text": [
      "<memory at 0x0000013C576F18A0>\n"
     ]
    }
   ],
   "source": [
    "print(my2dArray.data)"
   ]
  },
  {
   "cell_type": "code",
   "execution_count": 41,
   "id": "cd394df5",
   "metadata": {},
   "outputs": [
    {
     "name": "stdout",
     "output_type": "stream",
     "text": [
      "(2, 2, 4)\n"
     ]
    }
   ],
   "source": [
    "print(my3dArray.shape)"
   ]
  },
  {
   "cell_type": "code",
   "execution_count": 42,
   "id": "e44ef84e-73e0-4e21-a50b-2a1912ebc562",
   "metadata": {},
   "outputs": [
    {
     "name": "stdout",
     "output_type": "stream",
     "text": [
      "(32, 16, 4)\n"
     ]
    }
   ],
   "source": [
    "print(my3dArray.strides)"
   ]
  },
  {
   "cell_type": "code",
   "execution_count": 44,
   "id": "d92797ee",
   "metadata": {},
   "outputs": [
    {
     "name": "stdout",
     "output_type": "stream",
     "text": [
      "int32\n"
     ]
    }
   ],
   "source": [
    "print(my3dArray.dtype)"
   ]
  },
  {
   "cell_type": "code",
   "execution_count": 46,
   "id": "d0d04fd1",
   "metadata": {},
   "outputs": [
    {
     "name": "stdout",
     "output_type": "stream",
     "text": [
      "[[1. 1. 1. 1.]]\n"
     ]
    }
   ],
   "source": [
    "ones=np.ones((1,4))\n",
    "print(ones)"
   ]
  },
  {
   "cell_type": "code",
   "execution_count": 47,
   "id": "4705d6b0",
   "metadata": {},
   "outputs": [
    {
     "name": "stdout",
     "output_type": "stream",
     "text": [
      "[[[0. 0. 0. 0.]\n",
      "  [0. 0. 0. 0.]\n",
      "  [0. 0. 0. 0.]]\n",
      "\n",
      " [[0. 0. 0. 0.]\n",
      "  [0. 0. 0. 0.]\n",
      "  [0. 0. 0. 0.]]]\n"
     ]
    }
   ],
   "source": [
    "zeros=np.zeros((2,3,4))\n",
    "print(zeros)"
   ]
  },
  {
   "cell_type": "code",
   "execution_count": 50,
   "id": "2c854e6f",
   "metadata": {},
   "outputs": [
    {
     "name": "stdout",
     "output_type": "stream",
     "text": [
      "[[6.23042070e-307 4.67296746e-307 1.69121096e-306]\n",
      " [1.89142822e-307 2.67020407e-306 2.42092166e-322]]\n"
     ]
    }
   ],
   "source": [
    "empty=np.empty((2,3))\n",
    "print(empty)"
   ]
  },
  {
   "cell_type": "code",
   "execution_count": 52,
   "id": "6b564872",
   "metadata": {},
   "outputs": [
    {
     "name": "stdout",
     "output_type": "stream",
     "text": [
      "[[7 7 7]]\n"
     ]
    }
   ],
   "source": [
    "full=np.full((1,3),7)\n",
    "print(full)"
   ]
  },
  {
   "cell_type": "code",
   "execution_count": 54,
   "id": "54d760b8",
   "metadata": {},
   "outputs": [
    {
     "name": "stdout",
     "output_type": "stream",
     "text": [
      "[10 15 20]\n"
     ]
    }
   ],
   "source": [
    "arr=np.arange(10,25,5)\n",
    "print(arr)"
   ]
  },
  {
   "cell_type": "code",
   "execution_count": 56,
   "id": "97905d6b",
   "metadata": {},
   "outputs": [
    {
     "name": "stdout",
     "output_type": "stream",
     "text": [
      "[1 2 3 4 5]\n"
     ]
    }
   ],
   "source": [
    "arr=np.array([1,2,3,4,5])\n",
    "file=open(\"arr\",\"wb\")\n",
    "np.save(file,arr)\n",
    "file.close\n",
    "file=open(\"arr\",\"rb\")\n",
    "arr1=np.load(file)\n",
    "print(arr1)"
   ]
  },
  {
   "cell_type": "code",
   "execution_count": 58,
   "id": "989e044b",
   "metadata": {},
   "outputs": [
    {
     "name": "stdout",
     "output_type": "stream",
     "text": [
      "[ 6  8 10 12]\n",
      "[-4 -4 -4 -4]\n",
      "[ 5 12 21 32]\n",
      "[0.2        0.33333333 0.42857143 0.5       ]\n"
     ]
    }
   ],
   "source": [
    "arr1=np.array([1,2,3,4])\n",
    "arr2=np.array([5,6,7,8])\n",
    "print(np.add(arr1,arr2))\n",
    "print(np.subtract(arr1,arr2))\n",
    "print(np.multiply(arr1,arr2))\n",
    "print(np.divide(arr1,arr2))"
   ]
  },
  {
   "cell_type": "markdown",
   "id": "57c4ce25",
   "metadata": {},
   "source": []
  }
 ],
 "metadata": {
  "kernelspec": {
   "display_name": "Python 3 (ipykernel)",
   "language": "python",
   "name": "python3"
  },
  "language_info": {
   "codemirror_mode": {
    "name": "ipython",
    "version": 3
   },
   "file_extension": ".py",
   "mimetype": "text/x-python",
   "name": "python",
   "nbconvert_exporter": "python",
   "pygments_lexer": "ipython3",
   "version": "3.12.1"
  }
 },
 "nbformat": 4,
 "nbformat_minor": 5
}
