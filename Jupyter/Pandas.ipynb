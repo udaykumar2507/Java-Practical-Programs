{
 "cells": [
  {
   "cell_type": "code",
   "execution_count": 3,
   "metadata": {},
   "outputs": [
    {
     "name": "stdout",
     "output_type": "stream",
     "text": [
      "    Name  Age Gender  Interest\n",
      "0  Ujval   20   Male  TV Shows\n",
      "1   uday   45   MAle    Movies\n"
     ]
    }
   ],
   "source": [
    "import numpy as np\n",
    "import pandas as pd \n",
    "data={'Name':['Ujval','uday'],'Age':[20,45],'Gender':['Male','MAle'],'Interest':['TV Shows','Movies']}\n",
    "\n",
    "df=pd.DataFrame(data)\n",
    "print(df)\n"
   ]
  },
  {
   "cell_type": "code",
   "execution_count": 5,
   "metadata": {},
   "outputs": [
    {
     "name": "stdout",
     "output_type": "stream",
     "text": [
      "        A             B     C\n",
      "0   Apple       Healthy  VitA\n",
      "1  Banana  Very Healthy  VitB\n"
     ]
    }
   ],
   "source": [
    "data1=[{'A':'Apple','B':'Healthy','C':'VitA'},{'A':'Banana','B':'Very Healthy','C':'VitB'}]\n",
    "df1=(pd.DataFrame(data1))\n",
    "print(df1)"
   ]
  }
 ],
 "metadata": {
  "kernelspec": {
   "display_name": "Python 3",
   "language": "python",
   "name": "python3"
  },
  "language_info": {
   "codemirror_mode": {
    "name": "ipython",
    "version": 3
   },
   "file_extension": ".py",
   "mimetype": "text/x-python",
   "name": "python",
   "nbconvert_exporter": "python",
   "pygments_lexer": "ipython3",
   "version": "3.12.1"
  }
 },
 "nbformat": 4,
 "nbformat_minor": 2
}
